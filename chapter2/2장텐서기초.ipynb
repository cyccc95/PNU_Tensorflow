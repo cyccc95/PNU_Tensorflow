{
  "nbformat": 4,
  "nbformat_minor": 0,
  "metadata": {
    "colab": {
      "provenance": []
    },
    "kernelspec": {
      "name": "python3",
      "display_name": "Python 3"
    },
    "language_info": {
      "name": "python"
    }
  },
  "cells": [
    {
      "cell_type": "code",
      "execution_count": 1,
      "metadata": {
        "id": "UQmDT6X4K5bW",
        "colab": {
          "base_uri": "https://localhost:8080/"
        },
        "outputId": "7d7aa99b-9793-499c-d5ae-338f557911bf"
      },
      "outputs": [
        {
          "output_type": "stream",
          "name": "stdout",
          "text": [
            "True\n",
            "False\n",
            "Tensor(\"Const:0\", shape=(), dtype=int32)\n",
            "Tensor(\"Const_1:0\", shape=(), dtype=int32)\n",
            "Tensor(\"add:0\", shape=(), dtype=int32)\n",
            "1\n",
            "2\n",
            "3\n"
          ]
        }
      ],
      "source": [
        "#0301\n",
        "from tensorflow.python.framework.ops import disable_eager_execution\n",
        "\n",
        "import tensorflow as tf\n",
        "\n",
        "print(tf.executing_eagerly())\n",
        "disable_eager_execution()\n",
        "print(tf.executing_eagerly())\n",
        "\n",
        "# Graph construction\n",
        "a = tf.constant(1)\n",
        "b = tf.constant(2)\n",
        "c = a + b  # c= tf.add(a, b)\n",
        "print(a)\n",
        "print(b)\n",
        "print(c)\n",
        " \n",
        "\n",
        "#2 graph execution\n",
        "sess = tf.compat.v1.Session()\n",
        "print(sess.run(a))\n",
        "print(sess.run(b))\n",
        "print(sess.run(c))\n",
        "sess.close()\n",
        "\n"
      ]
    },
    {
      "cell_type": "code",
      "source": [
        "#0302\n",
        "from tensorflow.python.framework.ops import enable_eager_execution\n",
        "import tensorflow as tf\n",
        "\n",
        "tf.compat.v1.enable_v2_behavior() # 런타임을 다시 시작해야 함\n",
        "##enable_eager_execution()\n",
        "\n",
        "print(tf.executing_eagerly())\n",
        "a = tf.constant(1)\n",
        "b = tf.constant(2)\n",
        "c = a + b   # c= tf.add(a, b)\n",
        "print(a)\n",
        "print(b)\n",
        "print(c)\n",
        "print(tf.get_static_value(a))\n"
      ],
      "metadata": {
        "id": "y_7cHGrVLYRc",
        "colab": {
          "base_uri": "https://localhost:8080/"
        },
        "outputId": "87bf15d4-ced4-409d-9a6c-26776e4937a8"
      },
      "execution_count": 1,
      "outputs": [
        {
          "output_type": "stream",
          "name": "stdout",
          "text": [
            "True\n",
            "tf.Tensor(1, shape=(), dtype=int32)\n",
            "tf.Tensor(2, shape=(), dtype=int32)\n",
            "tf.Tensor(3, shape=(), dtype=int32)\n",
            "1\n"
          ]
        }
      ]
    },
    {
      "cell_type": "code",
      "source": [
        "#0303\n",
        "import tensorflow as tf\n",
        "#1\n",
        "a = tf.constant(1)\n",
        "b = tf.constant([1, 2, 3, 4])\n",
        "c = tf.constant([[1, 2], [3, 4]])\n",
        "d = tf.constant([[[1, 2], [3, 4]]])\n",
        "\n",
        "#2\n",
        "print(a)\n",
        "print(a.dtype)\n",
        "print(a.ndim, b.ndim, c.ndim, d.ndim)\n",
        "print(a.shape, b.shape, c.shape, d.shape)\n",
        "\n",
        "#3: indexing, slicing\n",
        "print(b[0])\n",
        "print(b[:2])\n",
        "print(c[0, 0])\n",
        "print(c[:,0])\n"
      ],
      "metadata": {
        "id": "-3pKKsLLLvLa",
        "colab": {
          "base_uri": "https://localhost:8080/"
        },
        "outputId": "13d8e1d1-df97-4337-e485-831fb6366e49"
      },
      "execution_count": 2,
      "outputs": [
        {
          "output_type": "stream",
          "name": "stdout",
          "text": [
            "tf.Tensor(1, shape=(), dtype=int32)\n",
            "<dtype: 'int32'>\n",
            "0 1 2 3\n",
            "() (4,) (2, 2) (1, 2, 2)\n",
            "tf.Tensor(1, shape=(), dtype=int32)\n",
            "tf.Tensor([1 2], shape=(2,), dtype=int32)\n",
            "tf.Tensor(1, shape=(), dtype=int32)\n",
            "tf.Tensor([1 3], shape=(2,), dtype=int32)\n"
          ]
        }
      ]
    },
    {
      "cell_type": "code",
      "source": [
        "#0304\n",
        "import tensorflow as tf\n",
        "#1\n",
        "a = tf.Variable(1)\n",
        "b = tf.Variable([1, 2, 3, 4])\n",
        "c = tf.Variable([[1, 2], [3, 4]])\n",
        "d = tf.Variable([[[1, 2], [3, 4]]])\n",
        "print(a.dtype)\n",
        "print(a.shape, b.shape, c.shape, d.shape)\n",
        " \n",
        "#2\n",
        "print(a)\n",
        "print(a.read_value()) # a.value()\n",
        "print(a.trainable)\n",
        "\n",
        "#3: indexing, slicing\n",
        "print(b[0])\n",
        "print(b[:2])\n",
        "print(c[0, 0])\n",
        "print(c[:,0])\n",
        "\n",
        "#4: assign(), assign_add(), assign_sub()\n",
        "print(id(a))\n",
        "print(a.assign(10)) # a.assign(20, read_value=False) : no return\n",
        "print(a.assign_add(20))\n",
        "print(a.assign_sub(10))\n",
        "print(id(a))\n"
      ],
      "metadata": {
        "id": "mo-IawuoL3dO"
      },
      "execution_count": null,
      "outputs": []
    },
    {
      "cell_type": "code",
      "source": [
        "#0305\n",
        "import tensorflow as tf\n",
        "\n",
        "a = tf.zeros(shape = (2, 3)) # dtype = tf.float32\n",
        "print(a)\n",
        "\n",
        "b = tf.ones(shape = (2, 3))\n",
        "print(b)\n",
        "\n",
        "c = tf.zeros_like(b)\n",
        "print(c)\n",
        "\n",
        "d = tf.ones_like(c)\n",
        "print(d)\n",
        "\n",
        "w = tf.Variable( d )\n",
        "print(w)\n"
      ],
      "metadata": {
        "id": "yo3kkDhJL_KK",
        "colab": {
          "base_uri": "https://localhost:8080/"
        },
        "outputId": "50d615c0-3dfa-44f6-b06e-b9e1d0611251"
      },
      "execution_count": 3,
      "outputs": [
        {
          "output_type": "stream",
          "name": "stdout",
          "text": [
            "tf.Tensor(\n",
            "[[0. 0. 0.]\n",
            " [0. 0. 0.]], shape=(2, 3), dtype=float32)\n",
            "tf.Tensor(\n",
            "[[1. 1. 1.]\n",
            " [1. 1. 1.]], shape=(2, 3), dtype=float32)\n",
            "tf.Tensor(\n",
            "[[0. 0. 0.]\n",
            " [0. 0. 0.]], shape=(2, 3), dtype=float32)\n",
            "tf.Tensor(\n",
            "[[1. 1. 1.]\n",
            " [1. 1. 1.]], shape=(2, 3), dtype=float32)\n",
            "<tf.Variable 'Variable:0' shape=(2, 3) dtype=float32, numpy=\n",
            "array([[1., 1., 1.],\n",
            "       [1., 1., 1.]], dtype=float32)>\n"
          ]
        }
      ]
    },
    {
      "cell_type": "code",
      "source": [
        "#0306\n",
        "import tensorflow as tf\n",
        "\n",
        "a= tf.fill([2, 3], 2.0)\n",
        "print(a)\n",
        "\n",
        "b = tf.linspace(0.0, 1.0, 5)\n",
        "print(b)\n",
        "\n",
        "c = tf.range(5)\n",
        "print(c)\n",
        "\n",
        "d = tf.range(1, 5, 0.5)\n",
        "print(d)\n",
        "\n",
        "w = tf.Variable(d)\n",
        "print(w)\n"
      ],
      "metadata": {
        "id": "9PaiL7xyMGuR",
        "colab": {
          "base_uri": "https://localhost:8080/"
        },
        "outputId": "dc8416a3-b3c5-440c-a804-359405041f1c"
      },
      "execution_count": 4,
      "outputs": [
        {
          "output_type": "stream",
          "name": "stdout",
          "text": [
            "tf.Tensor(\n",
            "[[2. 2. 2.]\n",
            " [2. 2. 2.]], shape=(2, 3), dtype=float32)\n",
            "tf.Tensor([0.   0.25 0.5  0.75 1.  ], shape=(5,), dtype=float32)\n",
            "tf.Tensor([0 1 2 3 4], shape=(5,), dtype=int32)\n",
            "tf.Tensor([1.  1.5 2.  2.5 3.  3.5 4.  4.5], shape=(8,), dtype=float32)\n",
            "<tf.Variable 'Variable:0' shape=(8,) dtype=float32, numpy=array([1. , 1.5, 2. , 2.5, 3. , 3.5, 4. , 4.5], dtype=float32)>\n"
          ]
        }
      ]
    },
    {
      "cell_type": "code",
      "source": [
        "#0307\n",
        "import tensorflow as tf\n",
        "#1\n",
        "a = tf.range(6)\n",
        "print(a)\n",
        "\n",
        "b = tf.reshape(a, shape=(2, 3)) # tf.reshape(a, shape=(-1, 3))\n",
        "print(b)\n",
        "\n",
        "c = tf.reshape(b, shape=(-1,))\n",
        "print(c)\n",
        "\n",
        "#2\n",
        "d = tf.transpose(b) # tf.transpose(b, perm=[1, 0])\n",
        "print(d)\n"
      ],
      "metadata": {
        "id": "HbmsBQFkMORb",
        "colab": {
          "base_uri": "https://localhost:8080/"
        },
        "outputId": "cc85e458-82db-4818-d928-a6b0a89a036f"
      },
      "execution_count": 5,
      "outputs": [
        {
          "output_type": "stream",
          "name": "stdout",
          "text": [
            "tf.Tensor([0 1 2 3 4 5], shape=(6,), dtype=int32)\n",
            "tf.Tensor(\n",
            "[[0 1 2]\n",
            " [3 4 5]], shape=(2, 3), dtype=int32)\n",
            "tf.Tensor([0 1 2 3 4 5], shape=(6,), dtype=int32)\n",
            "tf.Tensor(\n",
            "[[0 3]\n",
            " [1 4]\n",
            " [2 5]], shape=(3, 2), dtype=int32)\n"
          ]
        }
      ]
    },
    {
      "cell_type": "code",
      "source": [
        "#0308\n",
        "import tensorflow as tf\n",
        "\n",
        "#1\n",
        "a = tf.constant([1, 2])  # [1, 2]\n",
        "b = tf.constant([3, 4])  # [3, 4]\n",
        "\n",
        "#2\n",
        "print(tf.stack([a, b])) # axis = 0\n",
        "print(tf.stack([a, b], axis = 1))\n",
        " \n",
        "#3\n",
        "print(tf.concat([a, b],axis =0))\n",
        "a = tf.reshape(a, shape=(1,2))\n",
        "b = tf.reshape(b, shape=(1,2))\n",
        "c = tf.concat([a, b],axis =0)\n",
        "print(c)\n",
        " \n",
        "print(tf.concat([a, b],axis =1))\n",
        "print(tf.concat([c, b],axis =0))\n",
        "\n",
        "b = tf.reshape(b, shape=(2,1))\n",
        "print(b)\n",
        "\n",
        "print(tf.concat([c, b],axis =1))\n"
      ],
      "metadata": {
        "id": "k6--JEZqMVuh",
        "colab": {
          "base_uri": "https://localhost:8080/"
        },
        "outputId": "e1f00390-960f-4057-eda7-990c3ac87f7e"
      },
      "execution_count": 6,
      "outputs": [
        {
          "output_type": "stream",
          "name": "stdout",
          "text": [
            "tf.Tensor(\n",
            "[[1 2]\n",
            " [3 4]], shape=(2, 2), dtype=int32)\n",
            "tf.Tensor(\n",
            "[[1 3]\n",
            " [2 4]], shape=(2, 2), dtype=int32)\n",
            "tf.Tensor([1 2 3 4], shape=(4,), dtype=int32)\n",
            "tf.Tensor(\n",
            "[[1 2]\n",
            " [3 4]], shape=(2, 2), dtype=int32)\n",
            "tf.Tensor([[1 2 3 4]], shape=(1, 4), dtype=int32)\n",
            "tf.Tensor(\n",
            "[[1 2]\n",
            " [3 4]\n",
            " [3 4]], shape=(3, 2), dtype=int32)\n",
            "tf.Tensor(\n",
            "[[3]\n",
            " [4]], shape=(2, 1), dtype=int32)\n",
            "tf.Tensor(\n",
            "[[1 2 3]\n",
            " [3 4 4]], shape=(2, 3), dtype=int32)\n"
          ]
        }
      ]
    },
    {
      "cell_type": "code",
      "source": [
        "#0309\n",
        "import tensorflow as tf\n",
        "#1\n",
        "a = tf.constant([1, 2])\n",
        "print(a)\n",
        "\n",
        "b = tf.expand_dims(a, axis = 0)\n",
        "print(b)\n",
        "\n",
        "c = tf.expand_dims(a, axis = 1)\n",
        "print(c)\n",
        "\n",
        "d = tf.expand_dims(c, axis = 0)\n",
        "print(d)\n",
        "\n",
        "#2\n",
        "e = tf.squeeze(d) # remove all axes of shape size = 1\n",
        "print(e)\n",
        "\n",
        "f = tf.squeeze(d, axis = 2)\n",
        "print(f)\n"
      ],
      "metadata": {
        "id": "vNkoGHHzMbU6",
        "colab": {
          "base_uri": "https://localhost:8080/"
        },
        "outputId": "eeb20ba3-b217-42b0-ebdf-dff4c23c4bba"
      },
      "execution_count": 7,
      "outputs": [
        {
          "output_type": "stream",
          "name": "stdout",
          "text": [
            "tf.Tensor([1 2], shape=(2,), dtype=int32)\n",
            "tf.Tensor([[1 2]], shape=(1, 2), dtype=int32)\n",
            "tf.Tensor(\n",
            "[[1]\n",
            " [2]], shape=(2, 1), dtype=int32)\n",
            "tf.Tensor(\n",
            "[[[1]\n",
            "  [2]]], shape=(1, 2, 1), dtype=int32)\n",
            "tf.Tensor([1 2], shape=(2,), dtype=int32)\n",
            "tf.Tensor([[1 2]], shape=(1, 2), dtype=int32)\n"
          ]
        }
      ]
    },
    {
      "cell_type": "code",
      "source": [
        "#0310\n",
        "import tensorflow as tf\n",
        "\n",
        "tf.random.set_seed(1)\n",
        "a = tf.range(5)\n",
        "print(tf.random.shuffle(a))\n",
        "print(tf.random.uniform(shape=(2, 3), minval=0, maxval=1))\n",
        "print(tf.random.normal(shape=(2,3))) # mean=0, stddev=1\n",
        "print(tf.random.normal(shape=(2,3), mean=10, stddev=2))\n",
        "print(tf.random.truncated_normal(shape=(2, 3))) # mean=0, stddev=1\n",
        "\n",
        "w= tf.Variable(tf.random.truncated_normal(shape=(2, 3)))\n",
        "print(w)\n"
      ],
      "metadata": {
        "id": "dahyTVK5MhOa"
      },
      "execution_count": null,
      "outputs": []
    },
    {
      "cell_type": "code",
      "source": [
        "#0401\n",
        "import tensorflow as tf\n",
        "#1\n",
        "a = tf.constant([1, 2])\n",
        "print(a + 1) # tf.add(a, 1), tf.math.add(a, 1)\n",
        "print(a - 1) # tf.subtract(a, 1), tf.math.subtract(a, 1)\n",
        "print(a * 2) # tf.multiply(a, 2), tf.math.multiply(a, 2)\n",
        "print(a / 2) # tf.divide(a, 2), tf.math.divide(a, 2)\n",
        "\n",
        "#2\n",
        "b = tf.constant([3, 4])\n",
        "print(a + b) # tf.add(a, b)\n",
        "print(a - b) # tf.subtract(a, b)\n",
        "print(a * b) # tf.multiply(a, b)\n",
        "print(a / b)  # tf.divide(a, b)\n",
        "\n",
        "#3\n",
        "a = tf.constant([[1, 2], [3, 4]])\n",
        "b = tf.constant([1, 2])\n",
        "print(a + b) # tf.add(a, b)\n",
        "print(a - b) # tf.subtract(a, b)\n",
        "print(a * b) # tf.multiply(a, b)\n",
        "print(a / b) # tf.divide(a, b)\n"
      ],
      "metadata": {
        "id": "N6BaZPgpMt7I"
      },
      "execution_count": null,
      "outputs": []
    },
    {
      "cell_type": "code",
      "source": [
        "#0402\n",
        "import tensorflow as tf\n",
        "#1\n",
        "a = tf.reshape(tf.range(12), shape = (3, 4))\n",
        "print(a)\n",
        "\n",
        "#2 \n",
        "print(tf.reduce_min(a))\n",
        "print(tf.reduce_min(a, axis= 0))\n",
        "print(tf.reduce_min(a, axis= 1))\n",
        "\n",
        "#3\n",
        "print(tf.reduce_max(a))\n",
        "print(tf.reduce_max(a, axis= 0))\n",
        "print(tf.reduce_max(a, axis= 1))\n",
        "\n",
        "#4\n",
        "print(tf.reduce_sum(a))\n",
        "print(tf.reduce_sum(a, axis= 0))\n",
        "print(tf.reduce_sum(a, axis= 1))\n",
        "\n",
        "#5\n",
        "print(tf.reduce_mean(a))\n",
        "print(tf.reduce_mean(a, axis= 0))\n",
        "print(tf.reduce_mean(a, axis= 1))\n",
        "\n",
        "#6\n",
        "print(tf.reduce_prod(a))\n",
        "print(tf.reduce_prod(a, axis= 0))\n",
        "print(tf.reduce_prod(a, axis= 1))\n",
        "\n",
        "#7\n",
        "a = tf.reshape(tf.random.shuffle(tf.range(12)), shape = (3, 4))\n",
        "print(a)\n",
        "\n",
        "print(tf.argmin(a)) #  tf.argmin(a, axis =0)\n",
        "print(tf.argmin(a, axis =1))\n",
        "print(tf.argmax(a)) # tf.argmax(a, axis =0)\n",
        "print(tf.argmax(a, axis =1))\n",
        "\n",
        "#8\n",
        "a = tf.random.shuffle(tf.range(12))\n",
        "print(a)\n",
        "print(tf.sort(a)) # direction=\"ASCENDING\"\n",
        "print(tf.sort(a, direction=\"DESCENDING\"))\n",
        "\n",
        "a = tf.reshape(a, shape=(3, 4))\n",
        "print(a)\n",
        "print(tf.sort(a)) # tf.sort(a, axis = 1)\n",
        "print(tf.sort(a, axis = 0))\n"
      ],
      "metadata": {
        "id": "Nu7eijSJM37N"
      },
      "execution_count": null,
      "outputs": []
    },
    {
      "cell_type": "code",
      "source": [
        "#0403\n",
        "import tensorflow as tf\n",
        "#1\n",
        "a = tf.constant([1, 2, 3], dtype=tf.float32)\n",
        "print(tf.norm(a)) # tf.linalg.norm(a)\n",
        "\n",
        "#2\n",
        "A = tf.constant([[1, 2], [3, 4]], dtype=tf.float32)\n",
        "print(tf.linalg.matrix_transpose(A))\n",
        "\n",
        "#3\n",
        "print(tf.linalg.det(A))\n",
        "\n",
        "B =  tf.linalg.inv(A) \n",
        "print(B)\n",
        "print(tf.matmul(A, B))  # tf.linalg.matmul(A, B)\n",
        "\n"
      ],
      "metadata": {
        "id": "pGg3G8OSM_me"
      },
      "execution_count": null,
      "outputs": []
    },
    {
      "cell_type": "code",
      "source": [
        "#0404\n",
        "import tensorflow as tf\n",
        "#1\n",
        "A = tf.constant([[1, 4,  1],\n",
        "\t         [1, 6, -1],\n",
        "\t\t [2, -1, 2]], dtype=tf.float32)\n",
        "b = tf.constant([[ 7],\n",
        "                 [13],\n",
        "                 [ 5]], dtype=tf.float32)\n",
        "\n",
        "#2\n",
        "print(tf.linalg.det(A))\n",
        "\n",
        "x = tf.matmul(tf.linalg.inv(A), b)\n",
        "print(x)\n",
        "\n",
        "#3\n",
        "def all_close(x, y, tol=1e-5):\n",
        "#\treturn tf.reduce_sum(tf.abs(x - y)) < tol\n",
        "         return tf.reduce_sum(tf.square(x - y)) < tol\n",
        "print(all_close(tf.matmul(A, x), b))\n",
        "\n",
        "#4\n",
        "x = tf.linalg.solve(A, b)\n",
        "print(x)\n",
        "print(all_close(tf.matmul(A, x), b))\n"
      ],
      "metadata": {
        "id": "sWuU4gKZNIFU"
      },
      "execution_count": null,
      "outputs": []
    },
    {
      "cell_type": "code",
      "source": [
        "#0405\n",
        "import tensorflow as tf\n",
        "#1\n",
        "A = tf.constant([[1, 4,  1],\n",
        " \t         [1, 6, -1],\n",
        "\t\t [2, -1, 2]], dtype=tf.float32)\n",
        "L_U, p = tf.linalg.lu(A)\n",
        "print(L_U)\n",
        "print(p)\n",
        "\n",
        "#2: make P, L, U\n",
        "U = tf.linalg.band_part(L_U, 0, -1) # Upper triangular\n",
        "print(U)\n",
        "\n",
        "L = tf.linalg.band_part(L_U, -1, 0) # Lower triangular\n",
        "print(L)\n",
        "L = tf.linalg.set_diag(L, [1, 1, 1]) # strictly lower triangular part of LU\n",
        "print(L)\n",
        "\n",
        "P = tf.gather(tf.eye(3), p)\n",
        "print(P)\n",
        "\n",
        "#3: check A= PLU \n",
        "#3-1:\n",
        "print(tf.linalg.lu_reconstruct(L_U, p))\n",
        "\n",
        "#3-2: calculate directly the same as #3-1\n",
        "print(tf.matmul(P, tf.matmul(L, U))) # tf.gather(tf.matmul(L, U), p)\n",
        "\n",
        "#4: solve AX = b using PLUx = b\n",
        "b = tf.constant([[ 7],\n",
        "                 [13],\n",
        "                 [ 5]], dtype=tf.float32)\n",
        "#4-1:\n",
        "print(tf.linalg.lu_solve(L_U, p, b))\n",
        "\n",
        "\n",
        "#4-2: calculate directly the same as #4-1\n",
        "y = tf.linalg.triangular_solve(L, tf.matmul(tf.transpose(P), b))\n",
        "print(y)\n",
        "\n",
        "x = tf.linalg.triangular_solve(U, y, lower=False)\n",
        "print(x)\n",
        "\n",
        "#5: stuff: pivots, calulate det(A), rank(A)\n",
        "D = tf.linalg.diag_part(L_U) # tf.linalg.diag_part(U)\n",
        "print(D)\n",
        "\n",
        "rank = tf.math.count_nonzero(D)\n",
        "print(rank)\n",
        "\n",
        "det_U = tf.reduce_prod(tf.linalg.diag_part(U)) # tf.linalg.det(U)\n",
        "print(det_U)\n",
        "\n",
        "det_L = tf.reduce_prod(tf.linalg.diag_part(L)) # # tf.linalg.det(L)  \n",
        "print(det_L)\n",
        "\n",
        "det_P = tf.linalg.det(P)\n",
        "print(det_P)\n",
        "\n",
        "det_A = det_P*det_L*det_U # tf.linalg.det(A)\n",
        "print(det_A)\n"
      ],
      "metadata": {
        "id": "DhpGlqtKNNoA"
      },
      "execution_count": null,
      "outputs": []
    },
    {
      "cell_type": "code",
      "source": [
        "#0406\n",
        "import tensorflow as tf\n",
        "#1\n",
        "A = tf.constant([[0, 1],\n",
        "\t\t [1, 1],\n",
        "\t\t [2, 1]], dtype=tf.float32)\n",
        "b = tf.constant([[ 6],\n",
        "                 [ 0],\n",
        "                 [ 0]], dtype=tf.float32)\n",
        "At = tf.transpose(A)\n",
        "C = tf.matmul(At, A)\n",
        "print(C)\n",
        "\n",
        "#2\n",
        "x = tf.linalg.solve(C, tf.matmul(At, b))\n",
        "print(x)\n",
        "\n",
        "#3\n",
        "x2 = tf.matmul(tf.matmul(tf.linalg.inv(C), At), b)\n",
        "print(x2)\n",
        "\n",
        "#4\n",
        "L_U, p = tf.linalg.lu(C)\n",
        "x3 = tf.linalg.lu_solve(L_U, p, tf.matmul(At, b))\n",
        "print(x3)\n",
        "\n",
        "#4 \n",
        "x4 = tf.linalg.lstsq(A, b)\n",
        "print(x4)\n",
        "\n",
        "# draw the line\n",
        "m, c = x.numpy()[:,0]\n",
        "import matplotlib.pyplot as plt\n",
        "plt.gca().set_aspect('equal')\n",
        "plt.scatter(x = A.numpy()[:,0], y = b.numpy())\n",
        "t = tf.linspace(-1.0, 3.0, num=51)\n",
        "b1 = m*t + c\n",
        "plt.plot(t, b1, \"b-\")\n",
        "plt.axis([-1, 10, -1, 10])\n",
        "plt.show()\n"
      ],
      "metadata": {
        "id": "hWmpat0lNUbV"
      },
      "execution_count": null,
      "outputs": []
    },
    {
      "cell_type": "code",
      "source": [
        "#0407\n",
        "import tensorflow as tf\n",
        "import numpy as np\n",
        "import matplotlib.pyplot as plt\n",
        "\n",
        "#1\n",
        "def f(x):\n",
        "    return x**4 - 3*x**3 +2\n",
        "\n",
        "def fprime(x): # forward difference\n",
        "    h = 0.001\n",
        "    return (f(x+h) - f(x))/h\n",
        "\n",
        "#2\n",
        "k = 0\n",
        "max_iters = 1000\n",
        "lr = 0.001 \n",
        "tol = 1e-5\n",
        "\n",
        "x_old = 0.0\n",
        "x_new = 4.0  # -2.0\n",
        "x_list= [x_new]  # list of x_new\n",
        "x = tf.Variable(x_new, dtype = tf.float32) # initial value\n",
        "\n",
        "while abs(x_old-x_new)>tol and  k < max_iters:\n",
        "    k+=1\n",
        "    x_old= x.numpy()\n",
        "    step = lr * fprime(x)\n",
        "    x.assign_sub(step, read_value=False) # update value by gradient decent method \n",
        "    x_new= x.numpy()\n",
        "    x_list.append(x_new)\n",
        "##    print('k={}: f({})={}'.format(k, x_new, f(x_new)))\n",
        "print('k={}: f({})={}'.format(k, x_new, f(x_new))) # final solution\n",
        "\n",
        "#3: check solutions\n",
        "print(\"[f(0), f(9/4), f(-2), f(4)]=\", [f(0), f(9/4), f(-2), f(4)])\n",
        "# [f(0), f(9/4), f(-2), f(4)]: [2, -6.54296875, 42, 66] \n",
        "\n",
        "#4: draw graph \n",
        "#4-1: graph f(x)\n",
        "##x_values = np.linspace(-2.0, 4.0, num = 101) # numpy.ndarray\n",
        "xs = tf.linspace(-2.0, 4.0, num = 101) # Tensor  \n",
        "ys = f(xs)\n",
        "plt.plot(xs, ys,  'b-')\n",
        "\n",
        "#4-2: f(x_new), updated solutions\n",
        "##x_list =np.array(x_list) # numpy.ndarray\n",
        "x_list =tf.constant(x_list, dtype=tf.float32)  # Tensor\n",
        "y_list = f(x_list) \n",
        "plt.plot(x_list, y_list, 'ro')\n",
        "plt.show()\n"
      ],
      "metadata": {
        "id": "-6DMfQIWNc4f",
        "colab": {
          "base_uri": "https://localhost:8080/",
          "height": 302
        },
        "outputId": "bf943edc-a2f1-41ba-8a2d-8e380cbbea1a"
      },
      "execution_count": 8,
      "outputs": [
        {
          "output_type": "stream",
          "name": "stdout",
          "text": [
            "k=336: f(2.250152587890625)=-6.542968514237657\n",
            "[f(0), f(9/4), f(-2), f(4)]= [2, -6.54296875, 42, 66]\n"
          ]
        },
        {
          "output_type": "display_data",
          "data": {
            "text/plain": [
              "<Figure size 432x288 with 1 Axes>"
            ],
            "image/png": "[encoded data removed]"
          },
          "metadata": {
            "needs_background": "light"
          }
        }
      ]
    }
  ]
}