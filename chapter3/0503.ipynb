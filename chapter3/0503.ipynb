{
  "cells": [
    {
      "cell_type": "code",
      "execution_count": 1,
      "metadata": {},
      "outputs": [
        {
          "name": "stdout",
          "output_type": "stream",
          "text": [
            "MSE(t, y1)= 1.875\n",
            "MSE(t, y2)= 0.25\n"
          ]
        }
      ],
      "source": [
        "import numpy as np\n",
        "import tensorflow as tf\n",
        "\n",
        "t = np.array([1,   2, 3,   4])    \n",
        "y1 = np.array([0.5, 1, 1.5, 2])\n",
        "#t = tf.convert_to_tensor(t, dtype=tf.float32)\n",
        "#y1 = tf.convert_to_tensor(y1, dtype=tf.float32)\n",
        "\n",
        "MSE = tf.keras.losses.MeanSquaredError()\n",
        "\n",
        "print(\"MSE(t, y1)=\", MSE(t, y1).numpy())\n",
        "\n",
        "y2 = np.array([0.5, 1.5, 2.5, 3.5])\n",
        "print(\"MSE(t, y2)=\", MSE(t, y2).numpy())\n"
      ]
    }
  ],
  "metadata": {
    "anaconda-cloud": {},
    "kernelspec": {
      "display_name": "base",
      "language": "python",
      "name": "python3"
    },
    "language_info": {
      "codemirror_mode": {
        "name": "ipython",
        "version": 3
      },
      "file_extension": ".py",
      "mimetype": "text/x-python",
      "name": "python",
      "nbconvert_exporter": "python",
      "pygments_lexer": "ipython3",
      "version": "3.9.13"
    },
    "vscode": {
      "interpreter": {
        "hash": "f22877bf9927aba00f41d070cb31798bd248ba61643142f28b17eabbaebc8b47"
      }
    }
  },
  "nbformat": 4,
  "nbformat_minor": 4
}
