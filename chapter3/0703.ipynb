{
  "cells": [
    {
      "cell_type": "code",
      "metadata": {},
      "source": [
        "import tensorflow as tf\n",
        "\n",
        "x = tf.Variable(2.0) # tf.Variable(2.0, trainable=True)\n",
        "y = tf.Variable(3.0) # tf.Variable(3.0, trainable=True)\n",
        "\n",
        "with tf.GradientTape(watch_accessed_variables=False) as tape:\n",
        "    tape.watch(x)\n",
        "    tape.watch(y)\n",
        "    z = x**2 + y**2\n",
        "dx, dy = tape.gradient(z, [x, y])\n",
        "\n",
        "print('dx=', dx.numpy())\n",
        "print('dy=', dy.numpy())\n"
      ],
      "outputs": [],
      "execution_count": null
    }
  ],
  "metadata": {
    "anaconda-cloud": {},
    "kernelspec": {
      "display_name": "Python 3",
      "language": "python",
      "name": "python3"
    },
    "language_info": {
      "codemirror_mode": {
        "name": "ipython",
        "version": 3
      },
      "file_extension": ".py",
      "mimetype": "text/x-python",
      "name": "python",
      "nbconvert_exporter": "python",
      "pygments_lexer": "ipython3",
      "version": "3.6.1"
    }
  },
  "nbformat": 4,
  "nbformat_minor": 4
}