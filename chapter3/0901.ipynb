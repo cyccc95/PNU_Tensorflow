{
  "cells": [
    {
      "cell_type": "code",
      "metadata": {},
      "source": [
        "import numpy as np\n",
        "import tensorflow as tf\n",
        "\n",
        "##def MSE(y, t):\n",
        "##    return tf.reduce_mean(tf.square(y - t)) # (y - t)**2\n",
        "MSE = tf.keras.losses.MeanSquaredError()\n",
        "\n",
        "train_data = np.array([ # t = 1*x1 + 2*x2 + 3\n",
        "#  x1, x2, t      \n",
        " [ 1,  0,  4],\n",
        " [ 2,  0,  5],\n",
        " [ 3,  0,  6],\n",
        " [ 4,  0,  7],\n",
        " [ 1,  1,  6],\n",
        " [ 2,  1,  7],\n",
        " [ 3,  1,  8],\n",
        " [ 4,  1,  9]], dtype=np.float32)\n",
        "\n",
        "X = train_data[:, :-1]\n",
        "t = train_data[:, -1:]  \n",
        "#X = tf.convert_to_tensor(X, dtype=tf.float32)\n",
        "#t = tf.convert_to_tensor(t, dtype=tf.float32)\n",
        "print(\"X=\", X)\n",
        "print(\"t=\", t)\n",
        "\n",
        "tf.random.set_seed(1) # \ub09c\uc218\uc5f4 \ucd08\uae30\ud654\n",
        "W = tf.Variable(tf.random.normal(shape=[2, 1]), )\n",
        "b = tf.Variable(tf.random.normal(shape=[1]))\n",
        "##W = tf.Variable([[0.5],[0.5]], dtype=tf.float32)\n",
        "##b = tf.Variable(0.0)\n",
        "print(\"W=\", W.numpy())\n",
        "print(\"b=\", b.numpy())\n",
        "\n",
        "y = tf.matmul(X, W) + b\n",
        "print(\"y=\", y.numpy())\n",
        "\n",
        "loss = MSE(y, t)\n",
        "print(\"MSE(y, t)=\", loss.numpy())\n"
      ],
      "outputs": [],
      "execution_count": null
    }
  ],
  "metadata": {
    "anaconda-cloud": {},
    "kernelspec": {
      "display_name": "Python 3",
      "language": "python",
      "name": "python3"
    },
    "language_info": {
      "codemirror_mode": {
        "name": "ipython",
        "version": 3
      },
      "file_extension": ".py",
      "mimetype": "text/x-python",
      "name": "python",
      "nbconvert_exporter": "python",
      "pygments_lexer": "ipython3",
      "version": "3.6.1"
    }
  },
  "nbformat": 4,
  "nbformat_minor": 4
}