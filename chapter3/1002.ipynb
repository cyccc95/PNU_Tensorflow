{
  "cells": [
    {
      "cell_type": "code",
      "metadata": {},
      "source": [
        "import tensorflow as tf\n",
        "import matplotlib.pyplot as plt\n",
        "\n",
        "x = tf.Variable(2.0)\n",
        "y = tf.Variable(3.0)\n",
        "\n",
        "opt = tf.keras.optimizers.SGD(learning_rate=0.1) # learning_rate=0.001\n",
        "##opt = tf.keras.optimizers.Adagrad(0.1) \n",
        "##opt = tf.keras.optimizers.Adam(0.1) \n",
        "##opt = tf.keras.optimizers.RMSprop(0.1)\n",
        "\n",
        "loss_list = [ ]\n",
        "for epoch in range(100):\n",
        "        loss = lambda : x**2+ y**2   # function\n",
        "        loss_list.append(loss().numpy())\n",
        "        \n",
        "        opt.minimize(loss, var_list=[x, y])\n",
        "\t\n",
        "        if not epoch%10:\n",
        "                print(\"epoch={}: loss={}\".format(epoch, loss().numpy()))\n",
        "                \n",
        "print (\"x={:.5f}, y={:.5f}, loss={}\".format(\n",
        "        x.numpy(), y.numpy(), loss().numpy()))\n",
        "\n",
        "plt.plot(loss_list)\n",
        "plt.show()\n"
      ],
      "outputs": [],
      "execution_count": null
    }
  ],
  "metadata": {
    "anaconda-cloud": {},
    "kernelspec": {
      "display_name": "Python 3",
      "language": "python",
      "name": "python3"
    },
    "language_info": {
      "codemirror_mode": {
        "name": "ipython",
        "version": 3
      },
      "file_extension": ".py",
      "mimetype": "text/x-python",
      "name": "python",
      "nbconvert_exporter": "python",
      "pygments_lexer": "ipython3",
      "version": "3.6.1"
    }
  },
  "nbformat": 4,
  "nbformat_minor": 4
}