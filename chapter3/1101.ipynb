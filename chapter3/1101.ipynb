{
  "cells": [
    {
      "cell_type": "code",
      "metadata": {},
      "source": [
        "import tensorflow as tf\n",
        "import numpy as np\n",
        "import matplotlib.pyplot as plt\n",
        "\n",
        "MSE = tf.keras.losses.MeanSquaredError()\n",
        "def mse_loss():\n",
        "     y = x*w + b\n",
        "     return MSE(y, t) # tf.reduce_mean(tf.square(y - t))\n",
        "\n",
        "EPOCH = 1000\n",
        "train_size = 20\n",
        "\n",
        "# create the train data\n",
        "tf.random.set_seed(1) # np.random.seed(1)\n",
        "x = tf.linspace(0.0, 10.0, num=train_size) #np.linspace(0.0, 10.0, num=20)\n",
        "w_true, b_true = 3, -10  # truth, line parameters\n",
        "t = x*w_true + b_true + tf.random.normal([train_size], mean=0.0, stddev=2.0)\n",
        "\n",
        "# train parameters\n",
        "w = tf.Variable(tf.random.normal([]))\n",
        "b = tf.Variable(tf.random.normal([]))\n",
        "\n",
        "opt = tf.keras.optimizers.SGD(learning_rate=0.01)\n",
        "\n",
        "loss_list = [ ]\n",
        "for epoch in range(EPOCH):   \n",
        "    opt.minimize(mse_loss, var_list= [w, b])\n",
        "     \n",
        "    loss = mse_loss().numpy()\n",
        "    loss_list.append(loss)\n",
        "    if not epoch%100:\n",
        "        print(\"epoch={}: loss={}\".format(epoch, loss))\n",
        "\n",
        "print(\"w={:>.4f}. b={:>.4f}, loss={}\".format(w.numpy(), b.numpy(), loss))\n",
        "\n",
        "plt.plot(loss_list)\n",
        "plt.show()\n",
        "\n",
        "plt.scatter(x, t.numpy())  # train data plot\n",
        "\n",
        "w_pred, b_pred = w.numpy(), b.numpy() # predicted, line parameters\n",
        "t_pred= x*w_pred + b_pred \n",
        "plt.plot(x, t_pred, 'r-')\n",
        "plt.show()\n"
      ],
      "outputs": [],
      "execution_count": null
    }
  ],
  "metadata": {
    "anaconda-cloud": {},
    "kernelspec": {
      "display_name": "Python 3",
      "language": "python",
      "name": "python3"
    },
    "language_info": {
      "codemirror_mode": {
        "name": "ipython",
        "version": 3
      },
      "file_extension": ".py",
      "mimetype": "text/x-python",
      "name": "python",
      "nbconvert_exporter": "python",
      "pygments_lexer": "ipython3",
      "version": "3.6.1"
    }
  },
  "nbformat": 4,
  "nbformat_minor": 4
}