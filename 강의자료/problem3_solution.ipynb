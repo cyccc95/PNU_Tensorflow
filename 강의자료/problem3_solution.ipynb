{
  "nbformat": 4,
  "nbformat_minor": 0,
  "metadata": {
    "colab": {
      "provenance": []
    },
    "kernelspec": {
      "name": "python3",
      "display_name": "Python 3"
    },
    "language_info": {
      "name": "python"
    }
  },
  "cells": [
    {
      "cell_type": "markdown",
      "source": [
        "# Solution for Problem 3"
      ],
      "metadata": {
        "id": "rPqMytXQtPAY"
      }
    },
    {
      "cell_type": "code",
      "execution_count": null,
      "metadata": {
        "id": "v18KKtnOtOaI"
      },
      "outputs": [],
      "source": [
        "# 과제 003\n",
        "\n",
        "import tensorflow as tf\n",
        "import matplotlib.pyplot as plt\n",
        "import numpy as np\n",
        "\n",
        "(x_train, y_train), (x_test, y_test) = tf.keras.datasets.mnist.load_data()\n",
        "x_train, x_test = x_train[..., np.newaxis]/255.0, x_test[..., np.newaxis]/255.0\n",
        "\n",
        "AUTOTUNE = tf.data.AUTOTUNE\n",
        "mnist_train_ds = tf.data.Dataset.from_tensor_slices((x_train, y_train))\n",
        "mnist_train_ds = mnist_train_ds.cache().shuffle(5000).batch(32).prefetch(buffer_size=AUTOTUNE)\n",
        "\n",
        "model = tf.keras.Sequential([\n",
        "  tf.keras.layers.Flatten(),\n",
        "  tf.keras.layers.Dense(10)\n",
        "])\n",
        "\n",
        "model.compile(optimizer='adam',\n",
        "              loss=tf.keras.losses.SparseCategoricalCrossentropy(from_logits=True), \n",
        "              metrics=['accuracy'])\n",
        "\n",
        "history = model.fit(mnist_train_ds, epochs=10)\n",
        "\n",
        "def plot_loss(history):\n",
        "  plt.plot(history.history['loss'], label='loss')\n",
        "  plt.ylim([0, 1])\n",
        "  plt.xlabel('Epoch')\n",
        "  plt.ylabel('loss')\n",
        "  plt.legend()\n",
        "  plt.grid(True)\n",
        "\n",
        "plot_loss(history)\n",
        "\n",
        "predict_ds = tf.data.Dataset.from_tensor_slices(x_test).batch(32)\n",
        "result = model.predict(predict_ds, steps = 10)\n",
        "print(result.shape)\n",
        "\n",
        "from operator import itemgetter\n",
        "q = [1,5,6,75,100]\n",
        "fig, axs = plt.subplots(1, 5, figsize=(5, 25))\n",
        "for fig_idx, (idx, prediction) in enumerate(zip(q, itemgetter(1,5,6,75,100)(result))):\n",
        "  axs[fig_idx].imshow(x_test[idx].reshape(28,28))\n",
        "  pred_y = np.argmax(prediction)\n",
        "  axs[fig_idx].set_title(pred_y)"
      ]
    },
    {
      "cell_type": "code",
      "source": [],
      "metadata": {
        "id": "9KKHue2_ttzT"
      },
      "execution_count": null,
      "outputs": []
    }
  ]
}